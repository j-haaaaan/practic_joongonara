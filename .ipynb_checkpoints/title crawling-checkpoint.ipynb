{
 "cells": [
  {
   "cell_type": "code",
   "execution_count": 42,
   "metadata": {},
   "outputs": [],
   "source": [
    "import numpy as np\n",
    "import pandas as pd\n",
    "\n",
    "%config InlineBackend.figure_formats = {'png', 'retina'}\n",
    "\n",
    "pd.set_option('display.max_rows', 30000)\n",
    "pd.set_option('display.max_columns', 500)\n",
    "pd.set_option('display.width', 1000)"
   ]
  },
  {
   "cell_type": "code",
   "execution_count": 3,
   "metadata": {},
   "outputs": [],
   "source": [
    "import requests\n",
    "from bs4 import BeautifulSoup"
   ]
  },
  {
   "cell_type": "code",
   "execution_count": 19,
   "metadata": {},
   "outputs": [],
   "source": [
    "def make_url(page=1):\n",
    "    return \"https://m.cafe.naver.com/ArticleList.nhn?search.clubid=10050146&search.menuid=396&search.boardtype=L\""
   ]
  },
  {
   "cell_type": "code",
   "execution_count": 20,
   "metadata": {},
   "outputs": [
    {
     "data": {
      "text/plain": [
       "'https://m.cafe.naver.com/ArticleList.nhn?search.clubid=10050146&search.menuid=396&search.boardtype=L'"
      ]
     },
     "execution_count": 20,
     "metadata": {},
     "output_type": "execute_result"
    }
   ],
   "source": [
    "make_url()"
   ]
  },
  {
   "cell_type": "code",
   "execution_count": 34,
   "metadata": {
    "scrolled": true
   },
   "outputs": [
    {
     "data": {
      "text/plain": [
       "'https://m.cafe.naver.com/ArticleList.nhn?search.clubid=10050146&search.menuid=396&search.boardtype=L'"
      ]
     },
     "execution_count": 34,
     "metadata": {},
     "output_type": "execute_result"
    }
   ],
   "source": [
    "url = make_url(1)\n",
    "url"
   ]
  },
  {
   "cell_type": "code",
   "execution_count": 77,
   "metadata": {},
   "outputs": [],
   "source": [
    "import re"
   ]
  },
  {
   "cell_type": "code",
   "execution_count": 78,
   "metadata": {},
   "outputs": [],
   "source": [
    "def get_data(url):\n",
    "    \"\"\"\n",
    "    URL을 받으면 json으로 데이터를 가져와서 pandas로 만들어주는 함수\n",
    "    \"\"\"\n",
    "    df = pd.DataFrame(columns=[\"state\", \"title\"])\n",
    "    response = requests.get(url)\n",
    "    dom = BeautifulSoup(response.content, \"html.parser\")\n",
    "    titles = dom.select('.list_area > .board_box ')\n",
    "    \n",
    "    for title in titles:\n",
    "        t1 = title.select_one(\".tit\").text\n",
    "        t2 = t1.strip()\n",
    "        df.loc[len(df)] = {\n",
    "            \"state\" : title.select_one(\".icon_txt\").text,\n",
    "            \"title\" : t2,\n",
    "        }\n",
    "    return df"
   ]
  },
  {
   "cell_type": "code",
   "execution_count": 79,
   "metadata": {
    "scrolled": false
   },
   "outputs": [
    {
     "data": {
      "text/html": [
       "<div>\n",
       "<style scoped>\n",
       "    .dataframe tbody tr th:only-of-type {\n",
       "        vertical-align: middle;\n",
       "    }\n",
       "\n",
       "    .dataframe tbody tr th {\n",
       "        vertical-align: top;\n",
       "    }\n",
       "\n",
       "    .dataframe thead th {\n",
       "        text-align: right;\n",
       "    }\n",
       "</style>\n",
       "<table border=\"1\" class=\"dataframe\">\n",
       "  <thead>\n",
       "    <tr style=\"text-align: right;\">\n",
       "      <th></th>\n",
       "      <th>state</th>\n",
       "      <th>title</th>\n",
       "    </tr>\n",
       "  </thead>\n",
       "  <tbody>\n",
       "    <tr>\n",
       "      <th>0</th>\n",
       "      <td>판매</td>\n",
       "      <td>(대구) 미놀타 x700 +모터드라이버 + 로커PF58mm,로커HG35mm팝니다.</td>\n",
       "    </tr>\n",
       "    <tr>\n",
       "      <th>1</th>\n",
       "      <td>판매</td>\n",
       "      <td>로모LC-A 필름카메라</td>\n",
       "    </tr>\n",
       "    <tr>\n",
       "      <th>2</th>\n",
       "      <td>판매</td>\n",
       "      <td>Leica Leitz RASUK RASAL sportsfinder  A+ ---&gt; ...</td>\n",
       "    </tr>\n",
       "    <tr>\n",
       "      <th>3</th>\n",
       "      <td>판매</td>\n",
       "      <td>미놀타 AL-E 운포 14만원 판매(케이스 유/ 필름3개 증정)</td>\n",
       "    </tr>\n",
       "    <tr>\n",
       "      <th>4</th>\n",
       "      <td>판매</td>\n",
       "      <td>니콘 F 포토믹 초기형과 FE2 입니다</td>\n",
       "    </tr>\n",
       "    <tr>\n",
       "      <th>5</th>\n",
       "      <td>판매</td>\n",
       "      <td>교세라 SAMURAI   Z2팝니다 A급</td>\n",
       "    </tr>\n",
       "    <tr>\n",
       "      <th>6</th>\n",
       "      <td>판매</td>\n",
       "      <td>OLYMPUS OZ 80S 올림푸스 필름카메라</td>\n",
       "    </tr>\n",
       "    <tr>\n",
       "      <th>7</th>\n",
       "      <td>판매</td>\n",
       "      <td>FUJI TELE CARDIA SUPER date 후지 필름카메라</td>\n",
       "    </tr>\n",
       "    <tr>\n",
       "      <th>8</th>\n",
       "      <td>판매</td>\n",
       "      <td>수동카메라 펜탁스P50박스팝니다!</td>\n",
       "    </tr>\n",
       "    <tr>\n",
       "      <th>9</th>\n",
       "      <td>판매</td>\n",
       "      <td>RICOH MYPORT 330 SUPER 리코 필름카메라</td>\n",
       "    </tr>\n",
       "    <tr>\n",
       "      <th>10</th>\n",
       "      <td>판매</td>\n",
       "      <td>[저렴/가격인하] 후지인스타7s fuji insta 7s 후지필름 카메라 판매합니다.</td>\n",
       "    </tr>\n",
       "    <tr>\n",
       "      <th>11</th>\n",
       "      <td>판매</td>\n",
       "      <td>라이카 Sofort(민트색상/미개봉/국내정품/면세점구입)판매합니다.29만원</td>\n",
       "    </tr>\n",
       "    <tr>\n",
       "      <th>12</th>\n",
       "      <td>판매</td>\n",
       "      <td>올림푸스 EE-3 팝니다</td>\n",
       "    </tr>\n",
       "    <tr>\n",
       "      <th>13</th>\n",
       "      <td>판매</td>\n",
       "      <td>로모 lc-a 120과 루비텔 166+ 판매</td>\n",
       "    </tr>\n",
       "    <tr>\n",
       "      <th>14</th>\n",
       "      <td>판매</td>\n",
       "      <td>야시카 필름카메라</td>\n",
       "    </tr>\n",
       "    <tr>\n",
       "      <th>15</th>\n",
       "      <td>판매</td>\n",
       "      <td>미놀타필림카메라</td>\n",
       "    </tr>\n",
       "    <tr>\n",
       "      <th>16</th>\n",
       "      <td>판매</td>\n",
       "      <td>치논카메라 (미사용)</td>\n",
       "    </tr>\n",
       "    <tr>\n",
       "      <th>17</th>\n",
       "      <td>판매</td>\n",
       "      <td>코니카필름카메라  (미사용)</td>\n",
       "    </tr>\n",
       "    <tr>\n",
       "      <th>18</th>\n",
       "      <td>판매</td>\n",
       "      <td>올림프스 AF</td>\n",
       "    </tr>\n",
       "    <tr>\n",
       "      <th>19</th>\n",
       "      <td>판매 (안전)</td>\n",
       "      <td>라이카 Z2X P&amp;S; 카메라</td>\n",
       "    </tr>\n",
       "  </tbody>\n",
       "</table>\n",
       "</div>"
      ],
      "text/plain": [
       "      state                                              title\n",
       "0        판매      (대구) 미놀타 x700 +모터드라이버 + 로커PF58mm,로커HG35mm팝니다.\n",
       "1        판매                                       로모LC-A 필름카메라\n",
       "2        판매  Leica Leitz RASUK RASAL sportsfinder  A+ ---> ...\n",
       "3        판매                미놀타 AL-E 운포 14만원 판매(케이스 유/ 필름3개 증정)\n",
       "4        판매                              니콘 F 포토믹 초기형과 FE2 입니다\n",
       "5        판매                             교세라 SAMURAI   Z2팝니다 A급\n",
       "6        판매                          OLYMPUS OZ 80S 올림푸스 필름카메라\n",
       "7        판매               FUJI TELE CARDIA SUPER date 후지 필름카메라\n",
       "8        판매                                 수동카메라 펜탁스P50박스팝니다!\n",
       "9        판매                    RICOH MYPORT 330 SUPER 리코 필름카메라\n",
       "10       판매    [저렴/가격인하] 후지인스타7s fuji insta 7s 후지필름 카메라 판매합니다.\n",
       "11       판매          라이카 Sofort(민트색상/미개봉/국내정품/면세점구입)판매합니다.29만원\n",
       "12       판매                                      올림푸스 EE-3 팝니다\n",
       "13       판매                           로모 lc-a 120과 루비텔 166+ 판매\n",
       "14       판매                                          야시카 필름카메라\n",
       "15       판매                                           미놀타필림카메라\n",
       "16       판매                                        치논카메라 (미사용)\n",
       "17       판매                                    코니카필름카메라  (미사용)\n",
       "18       판매                                            올림프스 AF\n",
       "19  판매 (안전)                                   라이카 Z2X P&S; 카메라"
      ]
     },
     "execution_count": 79,
     "metadata": {},
     "output_type": "execute_result"
    }
   ],
   "source": [
    "df = get_data(url)\n",
    "df"
   ]
  },
  {
   "cell_type": "code",
   "execution_count": null,
   "metadata": {},
   "outputs": [],
   "source": []
  }
 ],
 "metadata": {
  "kernelspec": {
   "display_name": "Python 3",
   "language": "python",
   "name": "python3"
  },
  "language_info": {
   "codemirror_mode": {
    "name": "ipython",
    "version": 3
   },
   "file_extension": ".py",
   "mimetype": "text/x-python",
   "name": "python",
   "nbconvert_exporter": "python",
   "pygments_lexer": "ipython3",
   "version": "3.6.4"
  }
 },
 "nbformat": 4,
 "nbformat_minor": 2
}
