{
 "cells": [
  {
   "cell_type": "code",
   "execution_count": 1,
   "metadata": {},
   "outputs": [],
   "source": [
    "import numpy as np\n",
    "import pandas as pd\n",
    "\n",
    "%config InlineBackend.figure_formats = {'png', 'retina'}\n",
    "\n",
    "pd.set_option('display.max_rows', 30000)\n",
    "pd.set_option('display.max_columns', 500)\n",
    "pd.set_option('display.width', 1000)"
   ]
  },
  {
   "cell_type": "code",
   "execution_count": 2,
   "metadata": {},
   "outputs": [],
   "source": [
    "import requests\n",
    "from bs4 import BeautifulSoup"
   ]
  },
  {
   "cell_type": "code",
   "execution_count": 3,
   "metadata": {},
   "outputs": [],
   "source": [
    "def make_url():\n",
    "    return \"https://m.cafe.naver.com/ArticleList.nhn?search.clubid=10050146&search.menuid=396&search.boardtype=L\""
   ]
  },
  {
   "cell_type": "markdown",
   "metadata": {},
   "source": [
    "# 필름/중형 카메라 페이지만"
   ]
  },
  {
   "cell_type": "code",
   "execution_count": 4,
   "metadata": {},
   "outputs": [
    {
     "data": {
      "text/plain": [
       "'https://m.cafe.naver.com/ArticleList.nhn?search.clubid=10050146&search.menuid=396&search.boardtype=L'"
      ]
     },
     "execution_count": 4,
     "metadata": {},
     "output_type": "execute_result"
    }
   ],
   "source": [
    "make_url()"
   ]
  },
  {
   "cell_type": "code",
   "execution_count": 6,
   "metadata": {
    "scrolled": true
   },
   "outputs": [
    {
     "data": {
      "text/plain": [
       "'https://m.cafe.naver.com/ArticleList.nhn?search.clubid=10050146&search.menuid=396&search.boardtype=L'"
      ]
     },
     "execution_count": 6,
     "metadata": {},
     "output_type": "execute_result"
    }
   ],
   "source": [
    "url = make_url()\n",
    "url"
   ]
  },
  {
   "cell_type": "code",
   "execution_count": 7,
   "metadata": {},
   "outputs": [],
   "source": [
    "import re"
   ]
  },
  {
   "cell_type": "code",
   "execution_count": 18,
   "metadata": {},
   "outputs": [],
   "source": [
    "def get_data(url):\n",
    "    \"\"\"\n",
    "    URL을 받으면 json으로 데이터를 가져와서 pandas로 만들어주는 함수\n",
    "    \"\"\"\n",
    "    df = pd.DataFrame(columns=[\"state\", \"title\"])\n",
    "    response = requests.get(url)\n",
    "    dom = BeautifulSoup(response.content, \"html.parser\")\n",
    "    titles = dom.select('.list_area > .board_box ')\n",
    "    \n",
    "    for title in titles:\n",
    "        t1 = title.select_one(\".tit\").text\n",
    "        t2 = t1.strip()\n",
    "        df.loc[len(df)] = {\n",
    "            \"state\" : title.select_one(\".icon_txt\").text,\n",
    "            \"title\" : t2,\n",
    "        }\n",
    "    return df"
   ]
  },
  {
   "cell_type": "code",
   "execution_count": 19,
   "metadata": {
    "scrolled": false
   },
   "outputs": [
    {
     "data": {
      "text/html": [
       "<div>\n",
       "<style scoped>\n",
       "    .dataframe tbody tr th:only-of-type {\n",
       "        vertical-align: middle;\n",
       "    }\n",
       "\n",
       "    .dataframe tbody tr th {\n",
       "        vertical-align: top;\n",
       "    }\n",
       "\n",
       "    .dataframe thead th {\n",
       "        text-align: right;\n",
       "    }\n",
       "</style>\n",
       "<table border=\"1\" class=\"dataframe\">\n",
       "  <thead>\n",
       "    <tr style=\"text-align: right;\">\n",
       "      <th></th>\n",
       "      <th>state</th>\n",
       "      <th>title</th>\n",
       "    </tr>\n",
       "  </thead>\n",
       "  <tbody>\n",
       "    <tr>\n",
       "      <th>0</th>\n",
       "      <td>판매</td>\n",
       "      <td>올림퍼스 필름카메라 5만원^^(과천)</td>\n",
       "    </tr>\n",
       "    <tr>\n",
       "      <th>1</th>\n",
       "      <td>판매</td>\n",
       "      <td>교세라 SAMURAI   Z2 팝니다</td>\n",
       "    </tr>\n",
       "    <tr>\n",
       "      <th>2</th>\n",
       "      <td>판매</td>\n",
       "      <td>미놀타 x700 + rokkor 35mm 2.8 hg , rokkor 58mm 1....</td>\n",
       "    </tr>\n",
       "    <tr>\n",
       "      <th>3</th>\n",
       "      <td>판매</td>\n",
       "      <td>후지 폴라로이드 미니 7S 판매합니다.</td>\n",
       "    </tr>\n",
       "    <tr>\n",
       "      <th>4</th>\n",
       "      <td>판매</td>\n",
       "      <td>인스탁스 sq-10</td>\n",
       "    </tr>\n",
       "    <tr>\n",
       "      <th>5</th>\n",
       "      <td>판매 (안전)</td>\n",
       "      <td>라이카 미니줌 팔아요</td>\n",
       "    </tr>\n",
       "    <tr>\n",
       "      <th>6</th>\n",
       "      <td>판매 (안전)</td>\n",
       "      <td>니콘  f 801 s  /35-70  필름카메라  깨끗한거  판매</td>\n",
       "    </tr>\n",
       "    <tr>\n",
       "      <th>7</th>\n",
       "      <td>판매 (안전)</td>\n",
       "      <td>라이카 미니룩스 민트</td>\n",
       "    </tr>\n",
       "    <tr>\n",
       "      <th>8</th>\n",
       "      <td>판매</td>\n",
       "      <td>야시카FX-3 필림카메라팝니다</td>\n",
       "    </tr>\n",
       "    <tr>\n",
       "      <th>9</th>\n",
       "      <td>판매 (안전)</td>\n",
       "      <td>롤라이 35SE 검정 민트</td>\n",
       "    </tr>\n",
       "    <tr>\n",
       "      <th>10</th>\n",
       "      <td>판매</td>\n",
       "      <td>니콘 FM2 판매합니다.</td>\n",
       "    </tr>\n",
       "    <tr>\n",
       "      <th>11</th>\n",
       "      <td>판매 (안전)</td>\n",
       "      <td>프락티카 LTL + 펜타곤 50mm 1.8 M42(이종교배 보케렌즈)</td>\n",
       "    </tr>\n",
       "    <tr>\n",
       "      <th>12</th>\n",
       "      <td>판매</td>\n",
       "      <td>[미개봉새제품]인스탁스 SQ6 15만 (색상선택가능) + 배터리 추가증정</td>\n",
       "    </tr>\n",
       "    <tr>\n",
       "      <th>13</th>\n",
       "      <td>판매</td>\n",
       "      <td>삼성 SF-A 필름카메라</td>\n",
       "    </tr>\n",
       "    <tr>\n",
       "      <th>14</th>\n",
       "      <td>판매</td>\n",
       "      <td>Canon cine zoom Lens 18-80mm 캐논 카메라렌즈</td>\n",
       "    </tr>\n",
       "    <tr>\n",
       "      <th>15</th>\n",
       "      <td>판매</td>\n",
       "      <td>코시나 COSINA35 FR 필름카메라+ 코시논렌즈 F2.7 팝니다. - 내용필독</td>\n",
       "    </tr>\n",
       "    <tr>\n",
       "      <th>16</th>\n",
       "      <td>판매</td>\n",
       "      <td>후지 인스탁스미니9 핑크</td>\n",
       "    </tr>\n",
       "    <tr>\n",
       "      <th>17</th>\n",
       "      <td>판매</td>\n",
       "      <td>필름카메라 g7-m 골드스타 팝니다</td>\n",
       "    </tr>\n",
       "    <tr>\n",
       "      <th>18</th>\n",
       "      <td>판매</td>\n",
       "      <td>Canon HJ17eX7,6B IRSE 캐논 카메라 렌즈/방송촬영 영상 장비</td>\n",
       "    </tr>\n",
       "    <tr>\n",
       "      <th>19</th>\n",
       "      <td>판매</td>\n",
       "      <td>라이카 미니룩스 판매합니다.</td>\n",
       "    </tr>\n",
       "  </tbody>\n",
       "</table>\n",
       "</div>"
      ],
      "text/plain": [
       "      state                                              title\n",
       "0        판매                               올림퍼스 필름카메라 5만원^^(과천)\n",
       "1        판매                               교세라 SAMURAI   Z2 팝니다\n",
       "2        판매  미놀타 x700 + rokkor 35mm 2.8 hg , rokkor 58mm 1....\n",
       "3        판매                              후지 폴라로이드 미니 7S 판매합니다.\n",
       "4        판매                                         인스탁스 sq-10\n",
       "5   판매 (안전)                                        라이카 미니줌 팔아요\n",
       "6   판매 (안전)               니콘  f 801 s  /35-70  필름카메라  깨끗한거  판매\n",
       "7   판매 (안전)                                        라이카 미니룩스 민트\n",
       "8        판매                                   야시카FX-3 필림카메라팝니다\n",
       "9   판매 (안전)                                     롤라이 35SE 검정 민트\n",
       "10       판매                                      니콘 FM2 판매합니다.\n",
       "11  판매 (안전)             프락티카 LTL + 펜타곤 50mm 1.8 M42(이종교배 보케렌즈)\n",
       "12       판매           [미개봉새제품]인스탁스 SQ6 15만 (색상선택가능) + 배터리 추가증정\n",
       "13       판매                                      삼성 SF-A 필름카메라\n",
       "14       판매              Canon cine zoom Lens 18-80mm 캐논 카메라렌즈\n",
       "15       판매      코시나 COSINA35 FR 필름카메라+ 코시논렌즈 F2.7 팝니다. - 내용필독\n",
       "16       판매                                      후지 인스탁스미니9 핑크\n",
       "17       판매                                필름카메라 g7-m 골드스타 팝니다\n",
       "18       판매         Canon HJ17eX7,6B IRSE 캐논 카메라 렌즈/방송촬영 영상 장비\n",
       "19       판매                                    라이카 미니룩스 판매합니다."
      ]
     },
     "execution_count": 19,
     "metadata": {},
     "output_type": "execute_result"
    }
   ],
   "source": [
    "df = get_data(url)\n",
    "df"
   ]
  },
  {
   "cell_type": "markdown",
   "metadata": {},
   "source": [
    "# 전체글"
   ]
  },
  {
   "cell_type": "code",
   "execution_count": 20,
   "metadata": {},
   "outputs": [],
   "source": [
    "def make_url(page=1):\n",
    "    return \"http://cafe.naver.com/ArticleList.nhn?search.clubid=10050146&search.boardtype=L&search.questionTab=A&search.totalCount=151&search.page=\" + str(page)"
   ]
  },
  {
   "cell_type": "code",
   "execution_count": 21,
   "metadata": {},
   "outputs": [
    {
     "data": {
      "text/plain": [
       "'http://cafe.naver.com/ArticleList.nhn?search.clubid=10050146&search.boardtype=L&search.questionTab=A&search.totalCount=151&search.page=1'"
      ]
     },
     "execution_count": 21,
     "metadata": {},
     "output_type": "execute_result"
    }
   ],
   "source": [
    "url = make_url()\n",
    "url"
   ]
  },
  {
   "cell_type": "markdown",
   "metadata": {},
   "source": [
    "### 페이지 별로 다 긁어와보자"
   ]
  },
  {
   "cell_type": "code",
   "execution_count": null,
   "metadata": {},
   "outputs": [],
   "source": [
    "def get_data(url):\n",
    "    \"\"\"\n",
    "    URL을 받으면 json으로 데이터를 가져와서 pandas로 만들어주는 함수\n",
    "    \"\"\"\n",
    "    df = pd.DataFrame(columns=[\"state\", \"title\"])\n",
    "    response = requests.get(url)\n",
    "    dom = BeautifulSoup(response.content, \"html.parser\")\n",
    "    titles = dom.select('.list_area > .board_box ')\n",
    "    \n",
    "    for title in titles:\n",
    "        t1 = title.select_one(\".tit\").text\n",
    "        t2 = t1.strip()\n",
    "        df.loc[len(df)] = {\n",
    "            \"state\" : title.select_one(\".icon_txt\").text,\n",
    "            \"title\" : t2,\n",
    "        }\n",
    "    return df"
   ]
  }
 ],
 "metadata": {
  "kernelspec": {
   "display_name": "Python 3",
   "language": "python",
   "name": "python3"
  },
  "language_info": {
   "codemirror_mode": {
    "name": "ipython",
    "version": 3
   },
   "file_extension": ".py",
   "mimetype": "text/x-python",
   "name": "python",
   "nbconvert_exporter": "python",
   "pygments_lexer": "ipython3",
   "version": "3.6.4"
  }
 },
 "nbformat": 4,
 "nbformat_minor": 2
}
